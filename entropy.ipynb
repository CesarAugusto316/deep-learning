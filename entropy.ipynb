{
  "nbformat": 4,
  "nbformat_minor": 0,
  "metadata": {
    "colab": {
      "provenance": [],
      "authorship_tag": "ABX9TyPVOlfkTtiJ0PkYgkr2pNBK",
      "include_colab_link": true
    },
    "kernelspec": {
      "name": "python3",
      "display_name": "Python 3"
    },
    "language_info": {
      "name": "python"
    }
  },
  "cells": [
    {
      "cell_type": "markdown",
      "metadata": {
        "id": "view-in-github",
        "colab_type": "text"
      },
      "source": [
        "<a href=\"https://colab.research.google.com/github/CesarAugusto316/deep-learning/blob/main/entropy.ipynb\" target=\"_parent\"><img src=\"https://colab.research.google.com/assets/colab-badge.svg\" alt=\"Open In Colab\"/></a>"
      ]
    },
    {
      "cell_type": "code",
      "execution_count": 1,
      "metadata": {
        "id": "nNUMHhCdj0p9"
      },
      "outputs": [],
      "source": [
        "# cross entropy\n",
        "import numpy  as np\n",
        "import matplotlib.pyplot as plt"
      ]
    },
    {
      "cell_type": "code",
      "source": [
        "#\n",
        "# Entropy and Cross entropy is used in machine learning and deep learning to train models\n",
        "# usually in classification tasks for example to determine when an image is either\n",
        "# a cat or not. It measures the certainty of an event to happen, it measures the\n",
        "# the certainty of an image to be cat or not.\n",
        "# https://en.wikipedia.org/wiki/Cross-entropy\n",
        "\n",
        "\n",
        "# entropy\n",
        "p= 0.5\n",
        "x = [.25, .75]\n",
        "H = 0\n",
        "\n",
        "for p in x:\n",
        "  H =- p*np.log(p)\n",
        "\n",
        "print('Entropy: '+ str(H))\n",
        "\n",
        "\n",
        "# binary cross entropy\n",
        "p = [1, .00002]\n",
        "q = [.25, .75]\n",
        "H = 0\n",
        "\n",
        "for i in range(len(p)):\n",
        "  H -= p[i]*np.log(q[i])\n",
        "\n",
        "print('Cross Entropy: '+ str(H))\n"
      ],
      "metadata": {
        "id": "OouSWGcgy1DB",
        "outputId": "97b7103e-8108-4bfe-e237-61e1db38ae9a",
        "colab": {
          "base_uri": "https://localhost:8080/"
        }
      },
      "execution_count": 7,
      "outputs": [
        {
          "output_type": "stream",
          "name": "stdout",
          "text": [
            "Entropy: 0.21576155433883568\n",
            "Cross Entropy: 1.3863001147613396\n"
          ]
        }
      ]
    },
    {
      "cell_type": "code",
      "source": [
        "# pytorch implementation\n",
        "import torch\n",
        "import torch.nn.functional as F\n",
        "\n",
        "p_tensor = torch.tensor([0.25, 0.75])\n",
        "q_tensor = torch.tensor([1.0, 0.00002])\n",
        "\n",
        "print(F.binary_cross_entropy(p_tensor, q_tensor))\n",
        "print(F.cross_entropy(p_tensor, q_tensor))"
      ],
      "metadata": {
        "id": "54S6riZJy1Ax",
        "outputId": "78a7f3d0-5645-46e2-bfc1-b3cd08de5643",
        "colab": {
          "base_uri": "https://localhost:8080/"
        }
      },
      "execution_count": 12,
      "outputs": [
        {
          "output_type": "stream",
          "name": "stdout",
          "text": [
            "tensor(1.3863)\n",
            "tensor(0.9741)\n"
          ]
        }
      ]
    },
    {
      "cell_type": "code",
      "source": [],
      "metadata": {
        "id": "YRggQPgCy02t"
      },
      "execution_count": null,
      "outputs": []
    }
  ]
}