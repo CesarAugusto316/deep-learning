{
  "nbformat": 4,
  "nbformat_minor": 0,
  "metadata": {
    "colab": {
      "provenance": [],
      "authorship_tag": "ABX9TyObm1/vkJfP4pIvwobRWCqF",
      "include_colab_link": true
    },
    "kernelspec": {
      "name": "python3",
      "display_name": "Python 3"
    },
    "language_info": {
      "name": "python"
    }
  },
  "cells": [
    {
      "cell_type": "markdown",
      "metadata": {
        "id": "view-in-github",
        "colab_type": "text"
      },
      "source": [
        "<a href=\"https://colab.research.google.com/github/CesarAugusto316/deep-learning/blob/main/matrix_dot_product.ipynb\" target=\"_parent\"><img src=\"https://colab.research.google.com/assets/colab-badge.svg\" alt=\"Open In Colab\"/></a>"
      ]
    },
    {
      "cell_type": "code",
      "execution_count": 2,
      "metadata": {
        "id": "nNUMHhCdj0p9"
      },
      "outputs": [],
      "source": [
        "import numpy as np\n",
        "import torch"
      ]
    },
    {
      "cell_type": "code",
      "source": [
        "v1 = np.array([1,2,3])\n",
        "v2 = np.array([4,5,6])\n",
        "\n",
        "np.dot(v1,v2)"
      ],
      "metadata": {
        "id": "oq82SNcloeh5",
        "outputId": "962bf197-4979-4f20-a86a-ae51be818063",
        "colab": {
          "base_uri": "https://localhost:8080/"
        }
      },
      "execution_count": 3,
      "outputs": [
        {
          "output_type": "execute_result",
          "data": {
            "text/plain": [
              "32"
            ]
          },
          "metadata": {},
          "execution_count": 3
        }
      ]
    },
    {
      "cell_type": "code",
      "source": [
        "v1 = torch.tensor([1,2,3])\n",
        "v2 = torch.tensor([4,5,6])\n",
        "\n",
        "torch.dot(v1,v2)"
      ],
      "metadata": {
        "id": "pgiJonrOoeZ2",
        "outputId": "94cc2350-1997-4b53-e8f6-75119f8e7646",
        "colab": {
          "base_uri": "https://localhost:8080/"
        }
      },
      "execution_count": 4,
      "outputs": [
        {
          "output_type": "execute_result",
          "data": {
            "text/plain": [
              "tensor(32)"
            ]
          },
          "metadata": {},
          "execution_count": 4
        }
      ]
    },
    {
      "cell_type": "code",
      "source": [
        "A= np.random.randn(4,3).round()\n",
        "B= np.random.randn(3,2).round()\n",
        "\n",
        "print({\"A\": A})\n",
        "print({\"B\": B})\n",
        "print(\"Result:\")\n",
        "A@B # matrix dot product"
      ],
      "metadata": {
        "id": "IRYZwWeIWFYN",
        "outputId": "1b130fb3-24c1-42d2-e190-ad48c586d30a",
        "colab": {
          "base_uri": "https://localhost:8080/"
        }
      },
      "execution_count": 10,
      "outputs": [
        {
          "output_type": "stream",
          "name": "stdout",
          "text": [
            "{'A': array([[-1.,  1., -2.],\n",
            "       [ 0.,  0., -0.],\n",
            "       [-0.,  1., -2.],\n",
            "       [ 1.,  1., -0.]])}\n",
            "{'B': array([[ 1., -0.],\n",
            "       [-2.,  1.],\n",
            "       [-0.,  0.]])}\n",
            "Result:\n"
          ]
        },
        {
          "output_type": "execute_result",
          "data": {
            "text/plain": [
              "array([[-3.,  1.],\n",
              "       [ 0.,  0.],\n",
              "       [-2.,  1.],\n",
              "       [-1.,  1.]])"
            ]
          },
          "metadata": {},
          "execution_count": 10
        }
      ]
    },
    {
      "cell_type": "code",
      "source": [],
      "metadata": {
        "id": "qm8gjOB_WFPD"
      },
      "execution_count": null,
      "outputs": []
    },
    {
      "cell_type": "code",
      "source": [],
      "metadata": {
        "id": "5wZVtqMNoeMk"
      },
      "execution_count": null,
      "outputs": []
    }
  ]
}