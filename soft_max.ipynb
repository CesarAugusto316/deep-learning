{
  "nbformat": 4,
  "nbformat_minor": 0,
  "metadata": {
    "colab": {
      "provenance": [],
      "authorship_tag": "ABX9TyOh+4zqnD7RVWBWLTPIOygs",
      "include_colab_link": true
    },
    "kernelspec": {
      "name": "python3",
      "display_name": "Python 3"
    },
    "language_info": {
      "name": "python"
    }
  },
  "cells": [
    {
      "cell_type": "markdown",
      "metadata": {
        "id": "view-in-github",
        "colab_type": "text"
      },
      "source": [
        "<a href=\"https://colab.research.google.com/github/CesarAugusto316/deep-learning/blob/main/soft_max.ipynb\" target=\"_parent\"><img src=\"https://colab.research.google.com/assets/colab-badge.svg\" alt=\"Open In Colab\"/></a>"
      ]
    },
    {
      "cell_type": "markdown",
      "source": [
        "**Soft max function is linear transformation in a logaritmic space**"
      ],
      "metadata": {
        "id": "FhKTKTcXLA84"
      }
    },
    {
      "cell_type": "code",
      "source": [
        "import numpy as np\n",
        "import torch\n",
        "import torch.nn as nn\n",
        "import matplotlib.pyplot as plt\n",
        "from numpy.typing import NDArray\n",
        "\n",
        "# compute soft_max function\n",
        "# z = [1, 2, 3]\n",
        "# num = np.exp(z)\n",
        "# print(num)\n",
        "# denom = np.sum(np.exp(z))\n",
        "# print(denom)\n",
        "# soft_max = num / denom\n",
        "\n",
        "# print(soft_max)\n",
        "def soft_max(z: NDArray) -> NDArray:\n",
        "    num = np.exp(z)    # e to the power of z item\n",
        "    denom = np.sum(num)\n",
        "    return num / denom\n",
        "\n",
        "# x = np.array([1, 2, 3])\n",
        "# print(soft_max(x))\n",
        "y = np.random.randint(-5, 15, 15)\n",
        "# print(y)\n",
        "Sigma = soft_max(y)\n",
        "print(Sigma)\n",
        "\n",
        "plt.subplot(2, 2, 1)\n",
        "plt.plot(y, Sigma, 'ko')\n",
        "plt.xlabel(\"Original number\")\n",
        "plt.ylabel(\"$\\Sigma$\")\n",
        "plt.title(\"$\\sum\\sigma$ = %g\" % np.sum(Sigma))\n",
        "# plt.show()\n",
        "plt.subplot(2, 2, 2)\n",
        "plt.plot(y, Sigma, 'ko')\n",
        "plt.xlabel(\"Original number\")\n",
        "plt.ylabel(\"$\\Sigma$\")\n",
        "plt.title(\"$\\sum\\sigma$ = %g\" % np.sum(Sigma))\n",
        "plt.yscale('log')\n",
        "plt.show()\n"
      ],
      "metadata": {
        "id": "jyD6QfPsZAG0",
        "outputId": "d5dd5114-6c01-40be-d1de-8250d0c604de",
        "colab": {
          "base_uri": "https://localhost:8080/",
          "height": 348
        }
      },
      "execution_count": 39,
      "outputs": [
        {
          "output_type": "stream",
          "name": "stdout",
          "text": [
            "[6.63780440e-04 2.22673531e-07 3.01355853e-08 1.80434231e-03\n",
            " 1.80434231e-03 3.01355853e-08 1.64534721e-06 1.21575628e-05\n",
            " 2.67788142e-01 2.22673531e-07 7.27923640e-01 1.10862623e-08\n",
            " 6.05289412e-07 6.05289412e-07 2.22673531e-07]\n"
          ]
        },
        {
          "output_type": "display_data",
          "data": {
            "text/plain": [
              "<Figure size 640x480 with 2 Axes>"
            ],
            "image/png": "[encoded data removed]"
          },
          "metadata": {}
        }
      ]
    },
    {
      "cell_type": "code",
      "source": [
        "# pytorch approach\n",
        "x = np.random.randint(-5, 15, 15)\n",
        "print(x)\n",
        "\n",
        "softmaxFun =nn.Softmax(dim=0)\n",
        "\n",
        "Sigma = softmaxFun(torch.Tensor(x))\n",
        "print(Sigma)\n",
        "plt.subplot(2, 2, 1)\n",
        "plt.plot(x, Sigma, 'ko')\n",
        "plt.xlabel(\"Original number\")\n",
        "plt.ylabel(\"$\\Sigma$\")\n",
        "# plt.title(\"$\\sum\\sigma$ = %g\" % Sigma)\n",
        "# plt.show()\n",
        "plt.subplot(2, 2, 2)\n",
        "plt.plot(x, Sigma, 'ko')\n",
        "plt.xlabel(\"Original number\")\n",
        "plt.ylabel(\"$\\Sigma$\")\n",
        "# plt.title(\"$\\sum\\sigma$ = %g\" % Sigma)\n",
        "plt.yscale('log')\n",
        "plt.show()\n"
      ],
      "metadata": {
        "id": "Vyv7NwYLZAE_",
        "outputId": "b83b1614-93ca-40f7-c315-8aa4235e3045",
        "colab": {
          "base_uri": "https://localhost:8080/",
          "height": 321
        }
      },
      "execution_count": 67,
      "outputs": [
        {
          "output_type": "stream",
          "name": "stdout",
          "text": [
            "[12 -1 -5  6 14 11  7  2 -2 -2  1 -3 -1 -2 -2]\n",
            "tensor([1.1407e-01, 2.5785e-07, 4.7226e-09, 2.8276e-04, 8.4290e-01, 4.1966e-02,\n",
            "        7.6863e-04, 5.1790e-06, 9.4856e-08, 9.4856e-08, 1.9052e-06, 3.4896e-08,\n",
            "        2.5785e-07, 9.4856e-08, 9.4856e-08])\n"
          ]
        },
        {
          "output_type": "display_data",
          "data": {
            "text/plain": [
              "<Figure size 640x480 with 2 Axes>"
            ],
            "image/png": "[encoded data removed]"
          },
          "metadata": {}
        }
      ]
    },
    {
      "cell_type": "code",
      "source": [],
      "metadata": {
        "id": "EMYp4XV8A2ZU"
      },
      "execution_count": null,
      "outputs": []
    },
    {
      "cell_type": "code",
      "source": [],
      "metadata": {
        "id": "AhxVNz7dA2V7"
      },
      "execution_count": null,
      "outputs": []
    },
    {
      "cell_type": "code",
      "source": [],
      "metadata": {
        "id": "DGJXxrRhA2Sa"
      },
      "execution_count": null,
      "outputs": []
    },
    {
      "cell_type": "code",
      "source": [],
      "metadata": {
        "id": "Aifgy4qKA2OF"
      },
      "execution_count": null,
      "outputs": []
    },
    {
      "cell_type": "code",
      "source": [],
      "metadata": {
        "id": "Ykr4GssgA2Kt"
      },
      "execution_count": null,
      "outputs": []
    },
    {
      "cell_type": "code",
      "source": [],
      "metadata": {
        "id": "iPH07nOvA2Fe"
      },
      "execution_count": null,
      "outputs": []
    },
    {
      "cell_type": "code",
      "source": [],
      "metadata": {
        "id": "iGe4WQZcA16j"
      },
      "execution_count": null,
      "outputs": []
    },
    {
      "cell_type": "code",
      "source": [],
      "metadata": {
        "id": "O3Fv631IA1pL"
      },
      "execution_count": null,
      "outputs": []
    },
    {
      "cell_type": "code",
      "source": [],
      "metadata": {
        "id": "BqSyJNLSY_6M"
      },
      "execution_count": null,
      "outputs": []
    },
    {
      "cell_type": "code",
      "execution_count": null,
      "metadata": {
        "id": "nNUMHhCdj0p9"
      },
      "outputs": [],
      "source": []
    }
  ]
}