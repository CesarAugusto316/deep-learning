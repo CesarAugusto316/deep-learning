{
  "nbformat": 4,
  "nbformat_minor": 0,
  "metadata": {
    "colab": {
      "provenance": [],
      "toc_visible": true,
      "authorship_tag": "ABX9TyNWWm+k83yyEWuWFbHZR5oR",
      "include_colab_link": true
    },
    "kernelspec": {
      "name": "python3",
      "display_name": "Python 3"
    },
    "language_info": {
      "name": "python"
    }
  },
  "cells": [
    {
      "cell_type": "markdown",
      "metadata": {
        "id": "view-in-github",
        "colab_type": "text"
      },
      "source": [
        "<a href=\"https://colab.research.google.com/github/CesarAugusto316/deep-learning/blob/main/vector_transpose.ipynb\" target=\"_parent\"><img src=\"https://colab.research.google.com/assets/colab-badge.svg\" alt=\"Open In Colab\"/></a>"
      ]
    },
    {
      "cell_type": "code",
      "execution_count": 10,
      "metadata": {
        "id": "nNUMHhCdj0p9"
      },
      "outputs": [],
      "source": [
        "import numpy as np\n",
        "import pandas as pd\n",
        "import matplotlib.pyplot as plt\n",
        "import torch\n",
        "# import seaborn as sns"
      ]
    },
    {
      "cell_type": "markdown",
      "source": [
        "## Tansposing a vector"
      ],
      "metadata": {
        "id": "RuHx_By0ksh0"
      }
    },
    {
      "cell_type": "code",
      "source": [
        "# vector\n",
        "v1 = np.array([[1,2,3,4]])  # row vector\n",
        "print(v1)\n",
        "\n",
        "print(v1.T)"
      ],
      "metadata": {
        "id": "0aRzED8v9UYs",
        "outputId": "566d899a-1864-4751-d281-27153d705e6c",
        "colab": {
          "base_uri": "https://localhost:8080/"
        }
      },
      "execution_count": 32,
      "outputs": [
        {
          "output_type": "stream",
          "name": "stdout",
          "text": [
            "[[1 2 3 4]]\n",
            "[[1]\n",
            " [2]\n",
            " [3]\n",
            " [4]]\n"
          ]
        }
      ]
    },
    {
      "cell_type": "code",
      "source": [
        "# matrix with numpy\n",
        "m1 = np.array([\n",
        "    [1,2,3,4],\n",
        "    [5,6,7,8]\n",
        "])\n",
        "print(m1)\n",
        "print(m1.T)"
      ],
      "metadata": {
        "id": "K_gJTAWY9VEs",
        "outputId": "43f522d2-8596-49e2-d198-b55dc458d8e0",
        "colab": {
          "base_uri": "https://localhost:8080/"
        }
      },
      "execution_count": 9,
      "outputs": [
        {
          "output_type": "stream",
          "name": "stdout",
          "text": [
            "[[1 2 3 4]\n",
            " [5 6 7 8]]\n",
            "[[1 5]\n",
            " [2 6]\n",
            " [3 7]\n",
            " [4 8]]\n"
          ]
        }
      ]
    },
    {
      "cell_type": "code",
      "source": [
        "# matrix with pytorch\n",
        "m2 = torch.tensor([\n",
        "    [1,2,3,4],\n",
        "    [5,6,7,8]\n",
        "])\n",
        "print(m2)\n",
        "print(m2.T)"
      ],
      "metadata": {
        "id": "Vswd-211CCuR",
        "outputId": "8c6e7529-b891-4d46-84c9-b7d8b9d12dfc",
        "colab": {
          "base_uri": "https://localhost:8080/"
        }
      },
      "execution_count": 12,
      "outputs": [
        {
          "output_type": "stream",
          "name": "stdout",
          "text": [
            "tensor([[1, 2, 3, 4],\n",
            "        [5, 6, 7, 8]])\n",
            "tensor([[1, 5],\n",
            "        [2, 6],\n",
            "        [3, 7],\n",
            "        [4, 8]])\n"
          ]
        }
      ]
    },
    {
      "cell_type": "code",
      "source": [
        "v1 = np.array([\n",
        "    [1,2,3,4]\n",
        "])\n",
        "v2 = np.array([\n",
        "    [5,6,7,8]\n",
        "])\n",
        "print(v1)\n",
        "print(v2)\n",
        "\n",
        "dp1 = np.dot(v1, v2.T)\n",
        "print(dp1)\n",
        "print(np.sum(v1))\n",
        "dp2 = np.sum(v1 * v2)\n",
        "print(dp2)"
      ],
      "metadata": {
        "id": "_INzbze3CCrA",
        "outputId": "347a2574-28ad-45cc-c8a0-b2e9829d3bef",
        "colab": {
          "base_uri": "https://localhost:8080/"
        }
      },
      "execution_count": 23,
      "outputs": [
        {
          "output_type": "stream",
          "name": "stdout",
          "text": [
            "[[1 2 3 4]]\n",
            "[[5 6 7 8]]\n",
            "[[70]]\n",
            "10\n",
            "70\n"
          ]
        }
      ]
    },
    {
      "cell_type": "code",
      "source": [
        "v1 = torch.tensor(\n",
        "    [1,2,3,4]\n",
        ")\n",
        "v2 = torch.tensor(\n",
        "    [5,6,7,8]\n",
        ")\n",
        "print(v1)\n",
        "print(v2)\n",
        "\n",
        "dp1 = torch.dot(v1, v2)\n",
        "print(dp1)\n",
        "print(torch.sum(v1))\n",
        "dp2 = torch.sum(v1 * v2)\n",
        "print(dp2)"
      ],
      "metadata": {
        "id": "iCy9tT49CCnF",
        "outputId": "24d14121-ebc7-4faa-946c-6b1250e6d50a",
        "colab": {
          "base_uri": "https://localhost:8080/"
        }
      },
      "execution_count": 28,
      "outputs": [
        {
          "output_type": "stream",
          "name": "stdout",
          "text": [
            "tensor([1, 2, 3, 4])\n",
            "tensor([5, 6, 7, 8])\n",
            "tensor(70)\n",
            "tensor(10)\n",
            "tensor(70)\n"
          ]
        }
      ]
    },
    {
      "cell_type": "code",
      "source": [
        "v1_1d = np.array([1, 2, 3, 4])\n",
        "v2_1d = np.array([5, 6, 7, 8])\n",
        "print(v1_1d)\n",
        "print(v2_1d)\n",
        "np.dot(v1_1d, v2_1d)"
      ],
      "metadata": {
        "id": "BRI5WcHxCCd-",
        "outputId": "d1aa79ac-65bf-490f-c63e-65099184d86c",
        "colab": {
          "base_uri": "https://localhost:8080/"
        }
      },
      "execution_count": 30,
      "outputs": [
        {
          "output_type": "stream",
          "name": "stdout",
          "text": [
            "[1 2 3 4]\n",
            "[5 6 7 8]\n"
          ]
        },
        {
          "output_type": "execute_result",
          "data": {
            "text/plain": [
              "70"
            ]
          },
          "metadata": {},
          "execution_count": 30
        }
      ]
    },
    {
      "cell_type": "code",
      "source": [
        "t =torch.tensor([1, 2, 3, 4])\n",
        "print(t)\n",
        "print(t.T)"
      ],
      "metadata": {
        "id": "fo404mLACCTn",
        "outputId": "d3b560b0-ed41-4823-cd44-b46d66c7d968",
        "colab": {
          "base_uri": "https://localhost:8080/"
        }
      },
      "execution_count": 36,
      "outputs": [
        {
          "output_type": "stream",
          "name": "stdout",
          "text": [
            "tensor([1, 2, 3, 4])\n",
            "tensor([1, 2, 3, 4])\n"
          ]
        }
      ]
    }
  ]
}