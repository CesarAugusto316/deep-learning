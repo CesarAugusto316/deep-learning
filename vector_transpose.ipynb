{
  "nbformat": 4,
  "nbformat_minor": 0,
  "metadata": {
    "colab": {
      "provenance": [],
      "toc_visible": true,
      "authorship_tag": "ABX9TyN1CG+/3e7kTNZc6clZ7Ndc",
      "include_colab_link": true
    },
    "kernelspec": {
      "name": "python3",
      "display_name": "Python 3"
    },
    "language_info": {
      "name": "python"
    }
  },
  "cells": [
    {
      "cell_type": "markdown",
      "metadata": {
        "id": "view-in-github",
        "colab_type": "text"
      },
      "source": [
        "<a href=\"https://colab.research.google.com/github/CesarAugusto316/deep-learning/blob/main/vector_transpose.ipynb\" target=\"_parent\"><img src=\"https://colab.research.google.com/assets/colab-badge.svg\" alt=\"Open In Colab\"/></a>"
      ]
    },
    {
      "cell_type": "code",
      "execution_count": 1,
      "metadata": {
        "id": "nNUMHhCdj0p9"
      },
      "outputs": [],
      "source": [
        "import numpy as np\n",
        "import pandas as pd\n",
        "import matplotlib.pyplot as plt\n",
        "# import seaborn as sns"
      ]
    },
    {
      "cell_type": "markdown",
      "source": [
        "## Tansposing a vector"
      ],
      "metadata": {
        "id": "RuHx_By0ksh0"
      }
    },
    {
      "cell_type": "code",
      "source": [
        "v = np.array([[1,2,3,4]])  # row vector\n",
        "print(v)\n",
        "\n",
        "print(v.T)"
      ],
      "metadata": {
        "id": "0aRzED8v9UYs",
        "outputId": "f3133898-9c0e-4837-a76e-bfb3dbadb2e6",
        "colab": {
          "base_uri": "https://localhost:8080/"
        }
      },
      "execution_count": 7,
      "outputs": [
        {
          "output_type": "stream",
          "name": "stdout",
          "text": [
            "[[1 2 3 4]]\n",
            "[[1]\n",
            " [2]\n",
            " [3]\n",
            " [4]]\n"
          ]
        }
      ]
    },
    {
      "cell_type": "code",
      "source": [],
      "metadata": {
        "id": "K_gJTAWY9VEs"
      },
      "execution_count": null,
      "outputs": []
    }
  ]
}